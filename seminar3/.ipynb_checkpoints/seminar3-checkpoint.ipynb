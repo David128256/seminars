{
 "cells": [
  {
   "cell_type": "code",
   "execution_count": null,
   "id": "3d751805-f7b6-475a-8727-33a32314b7aa",
   "metadata": {},
   "outputs": [],
   "source": [
    "import numpy as np\n",
    "from tqdm.auto import tqdm\n",
    "import matplotlib.pyplot as plt\n",
    "from scipy.stats import mannwhitneyu, ttest_ind, t"
   ]
  },
  {
   "cell_type": "markdown",
   "id": "c4ea2f04-f667-4639-a702-7fab68efa6b8",
   "metadata": {},
   "source": [
    "# Mann Whitney"
   ]
  },
  {
   "cell_type": "code",
   "execution_count": null,
   "id": "584a8c56-c491-4579-afe1-e4896aa3c447",
   "metadata": {},
   "outputs": [],
   "source": [
    "data1 = 5 * np.random.randn(1000) + 50\n",
    "data2 = 5 * np.random.randn(1000) + 51"
   ]
  },
  {
   "cell_type": "code",
   "execution_count": null,
   "id": "1dac37ef-a516-48d4-9d44-05ff02098cd3",
   "metadata": {},
   "outputs": [],
   "source": [
    "plt.figure(figsize=(16, 8))\n",
    "plt.hist(data1, bins=100, alpha=0.3)\n",
    "plt.hist(data2, bins=100, alpha=0.3)\n",
    "plt.show()"
   ]
  },
  {
   "cell_type": "code",
   "execution_count": null,
   "id": "0ef110f9-0086-40ee-8779-da86998a0fae",
   "metadata": {},
   "outputs": [],
   "source": [
    "stat, p = mannwhitneyu(data1, data2)\n",
    "print(f'Statistics={stat}, p={p}')\n",
    "alpha = 0.05\n",
    "if p > alpha:\n",
    "\tprint('Same distribution (fail to reject H0)')\n",
    "else:\n",
    "\tprint('Different distribution (reject H0)')"
   ]
  },
  {
   "cell_type": "code",
   "execution_count": null,
   "id": "b2736aa2-c075-4945-a764-b489f24202f6",
   "metadata": {},
   "outputs": [],
   "source": [
    "num_tests = 10000"
   ]
  },
  {
   "cell_type": "code",
   "execution_count": null,
   "id": "204a6619-2dd9-44bd-af0f-ac893435a87f",
   "metadata": {},
   "outputs": [],
   "source": [
    "counter_acc = 0\n",
    "stats_diff = []\n",
    "for i in tqdm(range(num_tests)):\n",
    "    data1 = 5 * np.random.randn(1000) + 50\n",
    "    data2 = 5 * np.random.randn(1000) + 51\n",
    "    stat, p = mannwhitneyu(data1, data2)\n",
    "    counter_acc += p > alpha\n",
    "    stats_diff.append(stat)"
   ]
  },
  {
   "cell_type": "code",
   "execution_count": null,
   "id": "a0f3697c-d65d-47a7-854c-d4a11045adaa",
   "metadata": {},
   "outputs": [],
   "source": [
    "counter_acc, num_tests - counter_acc"
   ]
  },
  {
   "cell_type": "code",
   "execution_count": null,
   "id": "59985dfb-ce9a-4a9d-a450-b75ca33c551f",
   "metadata": {},
   "outputs": [],
   "source": [
    "counter_acc = 0\n",
    "stats_same = []\n",
    "for i in tqdm(range(num_tests)):\n",
    "    data1 = 5 * np.random.randn(1000) + 50\n",
    "    data2 = 5 * np.random.randn(1000) + 50\n",
    "    stat, p = mannwhitneyu(data1, data2)\n",
    "    counter_acc += p > alpha\n",
    "    stats_same.append(stat)"
   ]
  },
  {
   "cell_type": "code",
   "execution_count": null,
   "id": "5c382edc-343f-41a7-afcc-d82033bf5ff8",
   "metadata": {},
   "outputs": [],
   "source": [
    "counter_acc, num_tests - counter_acc"
   ]
  },
  {
   "cell_type": "code",
   "execution_count": null,
   "id": "05025e4b-cd26-4f97-bae7-10db5c53e236",
   "metadata": {},
   "outputs": [],
   "source": [
    "plt.figure(figsize=(16, 8))\n",
    "plt.hist(stats_diff, bins=100, alpha=0.3)\n",
    "plt.hist(stats_same, bins=100, alpha=0.3)\n",
    "plt.show()"
   ]
  },
  {
   "cell_type": "markdown",
   "id": "5610b599-1b77-4a28-9d7b-ec7e49ec85bc",
   "metadata": {},
   "source": [
    "# Sequence probability ratio test"
   ]
  },
  {
   "cell_type": "markdown",
   "id": "36813c51-006b-49f7-a514-c50fea74673a",
   "metadata": {},
   "source": [
    "$$f_{\\eta}(t) = \\frac{b}{\\eta}\\left(\\frac{t}{\\eta}\\right)^{b - 1}\\exp\\left(-\\left(\\frac{t}{\\eta}\\right)^{b}\\right)$$"
   ]
  },
  {
   "cell_type": "code",
   "execution_count": null,
   "id": "2bda8798-00c0-4a54-9c09-1319b94ae6a9",
   "metadata": {},
   "outputs": [],
   "source": [
    "eta = 1.5\n",
    "b = 1"
   ]
  },
  {
   "cell_type": "code",
   "execution_count": null,
   "id": "ab018818-b3b0-4aa1-a89b-cdb0fbc805df",
   "metadata": {},
   "outputs": [],
   "source": [
    "plt.figure(figsize=(24, 12))\n",
    "plt.hist(eta * np.random.weibull(b, 100000), bins=100, density=True, alpha=0.2, label=f'eta={eta}')\n",
    "plt.grid()\n",
    "plt.legend()\n",
    "plt.show()"
   ]
  },
  {
   "cell_type": "code",
   "execution_count": null,
   "id": "af27d303-1a8f-49a5-84ee-cfb460de7eb5",
   "metadata": {},
   "outputs": [],
   "source": [
    "plt.figure(figsize=(24, 12))\n",
    "for b in np.linspace(2, 6, 3):\n",
    "    plt.hist(eta * np.random.weibull(b, 100000), bins=100, density=True, alpha=0.2, label=f'b={eta}')\n",
    "plt.grid()\n",
    "plt.legend()\n",
    "plt.show()"
   ]
  },
  {
   "cell_type": "code",
   "execution_count": null,
   "id": "41793fda-aa15-441c-94b7-93613cbe1728",
   "metadata": {},
   "outputs": [],
   "source": [
    "b = 2\n",
    "plt.figure(figsize=(24, 12))\n",
    "for eta in np.linspace(2, 8, 4):\n",
    "    plt.hist(eta * np.random.weibull(b, 100000), bins=100, density=True, alpha=0.2, label=f'eta={eta}')\n",
    "plt.grid()\n",
    "plt.legend()\n",
    "plt.show()"
   ]
  },
  {
   "cell_type": "code",
   "execution_count": null,
   "id": "e2ae1bfa-8e6b-4e18-907a-cded1c206364",
   "metadata": {},
   "outputs": [],
   "source": [
    "eta1 = 2\n",
    "eta2 = 2.5\n",
    "eta_real = 2.25\n",
    "b = 2.25\n",
    "\n",
    "alpha1 = 0.05\n",
    "alpha2 = 0.1\n",
    "n = 10000"
   ]
  },
  {
   "cell_type": "code",
   "execution_count": null,
   "id": "727c1519-b90d-4b58-bf09-98329784fe85",
   "metadata": {},
   "outputs": [],
   "source": [
    "data1 = np.random.weibull(b, size=n) * eta_real\n",
    "L = []\n",
    "U = []\n",
    "V = [0]\n",
    "for i in range(n):\n",
    "    V.append(V[-1] + data1[i]**b)\n",
    "    L.append((eta1 * eta2)**b / (eta2**b - eta1**b) * (np.log(alpha2 / (1 - alpha1)) + (i + 1) * b * np.log(eta2 / eta1)))\n",
    "    U.append((eta1 * eta2)**b / (eta2**b - eta1**b) * (np.log((1 - alpha2) / alpha1) + (i + 1) * b * np.log(eta2 / eta1)))\n",
    "    if V[-1] < L[-1]:\n",
    "        counter_acc += 1\n",
    "        break\n",
    "    if V[-1] > U[-1]:\n",
    "        break\n",
    "V = V[1:]"
   ]
  },
  {
   "cell_type": "code",
   "execution_count": null,
   "id": "877e964a-0c93-4004-8a39-bdec6837ef76",
   "metadata": {},
   "outputs": [],
   "source": [
    "plt.figure(figsize=(24, 12))\n",
    "plt.plot(L, label='rejection value', c='red')\n",
    "plt.plot(V, label='value')\n",
    "plt.plot(U, label='acceptance value', c='green')\n",
    "plt.grid()\n",
    "plt.legend()\n",
    "plt.show()"
   ]
  },
  {
   "cell_type": "code",
   "execution_count": null,
   "id": "b3b0551c-d6fc-41e7-bb75-9a2cd239f1c9",
   "metadata": {},
   "outputs": [],
   "source": [
    "counter_acc = 0\n",
    "for j in tqdm(range(10000)):\n",
    "    data1 = np.random.weibull(b, size=n) * eta1\n",
    "    L = []\n",
    "    U = []\n",
    "    V = [0]\n",
    "    for i in range(n):\n",
    "        V.append(V[-1] + data1[i]**b)\n",
    "        L.append((eta1 * eta2)**b / (eta2**b - eta1**b) * (np.log(alpha2 / (1 - alpha1)) + (i + 1) * b * np.log(eta2 / eta1)))\n",
    "        U.append((eta1 * eta2)**b / (eta2**b - eta1**b) * (np.log((1 - alpha2) / alpha1) + (i + 1) * b * np.log(eta2 / eta1)))\n",
    "        if V[-1] < L[-1]:\n",
    "            counter_acc += 1\n",
    "            break\n",
    "        if V[-1] > U[-1]:\n",
    "            break\n",
    "    V = V[1:]"
   ]
  },
  {
   "cell_type": "code",
   "execution_count": null,
   "id": "b701d96e-2af7-4bb7-8bfd-21df3fa6f9d6",
   "metadata": {},
   "outputs": [],
   "source": [
    "counter_acc, 10000 - counter_acc"
   ]
  },
  {
   "cell_type": "code",
   "execution_count": null,
   "id": "e41414e0-d7ae-4038-8c82-1e2de5448cce",
   "metadata": {},
   "outputs": [],
   "source": [
    "counter_acc = 0\n",
    "for j in tqdm(range(10000)):\n",
    "    data1 = np.random.weibull(b, size=n) * eta2\n",
    "    L = []\n",
    "    U = []\n",
    "    V = [0]\n",
    "    for i in range(n):\n",
    "        V.append(V[-1] + data1[i]**b)\n",
    "        L.append((eta1 * eta2)**b / (eta2**b - eta1**b) * (np.log(alpha2 / (1 - alpha1)) + (i + 1) * b * np.log(eta2 / eta1)))\n",
    "        U.append((eta1 * eta2)**b / (eta2**b - eta1**b) * (np.log((1 - alpha2) / alpha1) + (i + 1) * b * np.log(eta2 / eta1)))\n",
    "        if V[-1] < L[-1]:\n",
    "            counter_acc += 1\n",
    "            break\n",
    "        if V[-1] > U[-1]:\n",
    "            break\n",
    "    V = V[1:]"
   ]
  },
  {
   "cell_type": "code",
   "execution_count": null,
   "id": "5b1df398-a8b1-49fc-8ecb-e7ada7e2712f",
   "metadata": {},
   "outputs": [],
   "source": [
    "counter_acc, 10000 - counter_acc"
   ]
  },
  {
   "cell_type": "markdown",
   "id": "23bfcb1b-3389-4c54-be9f-90720ed1ed30",
   "metadata": {},
   "source": [
    "# Bootstrap"
   ]
  },
  {
   "cell_type": "code",
   "execution_count": null,
   "id": "102f006e-fe0c-4ecf-9777-d7f5dc670b26",
   "metadata": {},
   "outputs": [],
   "source": [
    "data = np.random.beta(2, 2, 1000)"
   ]
  },
  {
   "cell_type": "code",
   "execution_count": null,
   "id": "fdfb7aee-d434-41eb-bb4d-f8bb73af8e82",
   "metadata": {},
   "outputs": [],
   "source": [
    "mean = 2\n",
    "std = np.sqrt(2 * 2 / (2 + 2)**2 / (2 + 2 + 1))"
   ]
  },
  {
   "cell_type": "code",
   "execution_count": null,
   "id": "4c231b7b-a8f2-49ba-a8b9-a2cd8c58c137",
   "metadata": {},
   "outputs": [],
   "source": [
    "mean, std"
   ]
  },
  {
   "cell_type": "code",
   "execution_count": null,
   "id": "b0291069-2886-4cdf-8841-6d45c7a14408",
   "metadata": {},
   "outputs": [],
   "source": [
    "plt.figure(figsize=(24, 12))\n",
    "plt.hist(data, bins=100)\n",
    "plt.grid()\n",
    "plt.show()"
   ]
  },
  {
   "cell_type": "code",
   "execution_count": null,
   "id": "b2a975cf-ea35-4291-9723-c209074d4639",
   "metadata": {},
   "outputs": [],
   "source": [
    "data.mean()"
   ]
  },
  {
   "cell_type": "code",
   "execution_count": null,
   "id": "ea81c96a-8eb6-4596-8bd7-ca9e74f6bf12",
   "metadata": {},
   "outputs": [],
   "source": [
    "means = []\n",
    "for i in range(10000):\n",
    "    means.append(np.random.choice(data, size=300, replace=True).mean())"
   ]
  },
  {
   "cell_type": "code",
   "execution_count": null,
   "id": "c6f93da6-47d0-40bf-a96d-c63850f6732c",
   "metadata": {},
   "outputs": [],
   "source": [
    "plt.figure(figsize=(24, 12))\n",
    "plt.hist(means, bins=100)\n",
    "plt.show()"
   ]
  },
  {
   "cell_type": "code",
   "execution_count": null,
   "id": "8031fd05-434c-428b-915a-95f5d45f7027",
   "metadata": {},
   "outputs": [],
   "source": [
    "np.percentile(means, 2.5), np.percentile(means, 97.5)"
   ]
  },
  {
   "cell_type": "code",
   "execution_count": null,
   "id": "cd7b8cb3-143e-4158-8ec3-d9dcbb1d3167",
   "metadata": {},
   "outputs": [],
   "source": [
    "data.std()"
   ]
  },
  {
   "cell_type": "code",
   "execution_count": null,
   "id": "d7ec87d9-d473-41c1-b423-60e9f452afce",
   "metadata": {},
   "outputs": [],
   "source": [
    "stds = []\n",
    "for i in range(10000):\n",
    "    stds.append(np.std(np.random.choice(data, size=300, replace=True)))"
   ]
  },
  {
   "cell_type": "code",
   "execution_count": null,
   "id": "961a5497-8bca-4e98-9c40-957d58083681",
   "metadata": {},
   "outputs": [],
   "source": [
    "plt.figure(figsize=(24, 12))\n",
    "plt.hist(stds, bins=100)\n",
    "plt.show()"
   ]
  },
  {
   "cell_type": "code",
   "execution_count": null,
   "id": "df24d427-636a-410d-9139-d463e1e84834",
   "metadata": {},
   "outputs": [],
   "source": [
    "np.percentile(stds, 2.5), np.percentile(stds, 97.5)"
   ]
  },
  {
   "cell_type": "code",
   "execution_count": null,
   "id": "22ff6c2c-0390-4379-acb0-364672f89856",
   "metadata": {},
   "outputs": [],
   "source": []
  },
  {
   "cell_type": "code",
   "execution_count": null,
   "id": "2959488c-2220-4848-8718-3dbfe47cede1",
   "metadata": {},
   "outputs": [],
   "source": [
    "data1 = 5 * np.random.randn(10000) + 50\n",
    "data2 = 5 * np.random.randn(10000) + 51"
   ]
  },
  {
   "cell_type": "code",
   "execution_count": null,
   "id": "4af659bc-e025-4c83-9935-aa822a701a58",
   "metadata": {},
   "outputs": [],
   "source": [
    "counter_acc = 0\n",
    "stats_diff, stats_same = [], []\n",
    "for i in tqdm(range(num_tests)):\n",
    "    d1 = np.random.choice(data1, size=500, replace=True)\n",
    "    d2 = np.random.choice(data2, size=500, replace=True)\n",
    "    stat, p = mannwhitneyu(d1, d2)\n",
    "    stats_diff.append(stat)\n",
    "    counter_acc += p > alpha\n",
    "    d1 = np.random.choice(data1, size=500, replace=True)\n",
    "    d2 = np.random.choice(data1, size=500, replace=True)\n",
    "    stat, p = mannwhitneyu(d1, d2)\n",
    "    stats_same.append(stat)"
   ]
  },
  {
   "cell_type": "code",
   "execution_count": null,
   "id": "b02bc664-36af-4645-b8b5-850ce7aa94b5",
   "metadata": {},
   "outputs": [],
   "source": [
    "counter_acc, num_tests - counter_acc"
   ]
  },
  {
   "cell_type": "code",
   "execution_count": null,
   "id": "9a5b9357-871e-4e51-bc78-8f12031a8770",
   "metadata": {},
   "outputs": [],
   "source": [
    "plt.figure(figsize=(24, 12))\n",
    "plt.hist(stats_diff, bins=100, alpha=0.3)\n",
    "plt.hist(stats_same, bins=100, alpha=0.3)\n",
    "plt.show()"
   ]
  },
  {
   "cell_type": "code",
   "execution_count": null,
   "id": "0baa7cd8-193a-4556-a772-81c68db88138",
   "metadata": {},
   "outputs": [],
   "source": [
    "counter_acc = 0\n",
    "stats_diff, stats_same = [], []\n",
    "for i in tqdm(range(num_tests)):\n",
    "    d1 = np.random.choice(data1, size=500, replace=True)\n",
    "    d2 = np.random.choice(data2, size=500, replace=True)\n",
    "    stat, p = ttest_ind(d1, d2)\n",
    "    stats_diff.append(stat)\n",
    "    counter_acc += p > alpha\n",
    "    d1 = np.random.choice(data1, size=500, replace=True)\n",
    "    d2 = np.random.choice(data1, size=500, replace=True)\n",
    "    stat, p = ttest_ind(d1, d2)\n",
    "    stats_same.append(stat)"
   ]
  },
  {
   "cell_type": "code",
   "execution_count": null,
   "id": "dec5b24d-50d7-479c-9c7b-0003c1bee440",
   "metadata": {},
   "outputs": [],
   "source": [
    "counter_acc"
   ]
  },
  {
   "cell_type": "code",
   "execution_count": null,
   "id": "a8946272-113d-4af5-840f-e6b8bfbacecb",
   "metadata": {},
   "outputs": [],
   "source": [
    "plt.figure(figsize=(24, 12))\n",
    "plt.hist(stats_diff, bins=100, alpha=0.3)\n",
    "plt.hist(stats_same, bins=100, alpha=0.3)\n",
    "plt.show()"
   ]
  },
  {
   "cell_type": "code",
   "execution_count": null,
   "id": "02815dd7-355d-40c2-8e02-6928eb5baa55",
   "metadata": {},
   "outputs": [],
   "source": []
  },
  {
   "cell_type": "code",
   "execution_count": null,
   "id": "abf8779d-13a6-4a6d-8429-bae5a174d666",
   "metadata": {},
   "outputs": [],
   "source": [
    "data1 = np.random.normal(100, 10, 100000)\n",
    "data2 = np.random.exponential(100, 100000)"
   ]
  },
  {
   "cell_type": "code",
   "execution_count": null,
   "id": "13b88878-d712-4c06-ab75-b157a293801c",
   "metadata": {},
   "outputs": [],
   "source": [
    "plt.figure(figsize=(24, 12))\n",
    "plt.hist(data1, bins=100, alpha=0.3, density=True)\n",
    "plt.hist(data2, bins=100, alpha=0.3, density=True)\n",
    "plt.show()"
   ]
  },
  {
   "cell_type": "code",
   "execution_count": null,
   "id": "9f73683d-e4b7-43a9-ae02-f12ef6385e21",
   "metadata": {},
   "outputs": [],
   "source": [
    "stats = []\n",
    "mu0 = 100\n",
    "for i in tqdm(range(num_tests)):\n",
    "    d2 = np.random.exponential(mu0, size=10)\n",
    "    stats.append(np.sqrt(d2.shape[0]) * (d2.mean() - mu0) / d2.std())\n",
    "    \n",
    "stats_2 = []\n",
    "for i in tqdm(range(num_tests)):\n",
    "    d2 = np.random.normal(mu0, 100, size=10)\n",
    "    stats_2.append(np.sqrt(d2.shape[0]) * (d2.mean() - mu0) / d2.std())"
   ]
  },
  {
   "cell_type": "code",
   "execution_count": null,
   "id": "c1cb69a8-5db1-4772-9bfc-185d63facf56",
   "metadata": {},
   "outputs": [],
   "source": [
    "plt.figure(figsize=(24, 12))\n",
    "plt.hist(stats, bins=100, alpha=0.3, density=True)\n",
    "plt.hist(stats_2, bins=100, alpha=0.3, density=True)\n",
    "plt.plot(np.linspace(-5, 5, 1000), t.pdf(np.linspace(-5, 5, 1000), df=2999))\n",
    "plt.show()"
   ]
  },
  {
   "cell_type": "code",
   "execution_count": null,
   "id": "7ff0d18e-1b54-40ac-98c5-62c8d8139da8",
   "metadata": {},
   "outputs": [],
   "source": []
  },
  {
   "cell_type": "code",
   "execution_count": null,
   "id": "a26b4ea1-fa87-43ae-a0c8-044046671835",
   "metadata": {},
   "outputs": [],
   "source": []
  }
 ],
 "metadata": {
  "kernelspec": {
   "display_name": "Python 3 (ipykernel)",
   "language": "python",
   "name": "python3"
  },
  "language_info": {
   "codemirror_mode": {
    "name": "ipython",
    "version": 3
   },
   "file_extension": ".py",
   "mimetype": "text/x-python",
   "name": "python",
   "nbconvert_exporter": "python",
   "pygments_lexer": "ipython3",
   "version": "3.8.10"
  }
 },
 "nbformat": 4,
 "nbformat_minor": 5
}
