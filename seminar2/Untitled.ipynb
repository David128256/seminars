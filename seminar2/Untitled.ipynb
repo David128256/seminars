{
 "cells": [
  {
   "cell_type": "code",
   "execution_count": 18,
   "id": "d72494b3-6536-4314-9652-e9eee54c05a0",
   "metadata": {},
   "outputs": [],
   "source": [
    "import numpy as np\n",
    "from scipy import stats\n",
    "import matplotlib.pyplot as plt"
   ]
  },
  {
   "cell_type": "code",
   "execution_count": 33,
   "id": "9d817b38-a690-415e-b142-8b2c28f7ac74",
   "metadata": {},
   "outputs": [],
   "source": [
    "sample = np.random.normal(3, 2, size=(10000, 1000))"
   ]
  },
  {
   "cell_type": "raw",
   "id": "2ee35c7d-af91-476b-bad6-ca01f78160d3",
   "metadata": {},
   "source": [
    "plt.hist(sample, bins=100)\n",
    "plt.show()"
   ]
  },
  {
   "cell_type": "code",
   "execution_count": 35,
   "id": "0c338283-dc1f-4a7d-8029-2170e569da9a",
   "metadata": {},
   "outputs": [],
   "source": [
    "mu0 = 2"
   ]
  },
  {
   "cell_type": "code",
   "execution_count": 36,
   "id": "5e530bb1-9c63-43c8-ac76-47d2e58304fc",
   "metadata": {},
   "outputs": [],
   "source": [
    "st = (sample.mean(axis=1) - mu0) / (sample.std(axis=1) / np.sqrt(sample.shape[0]))"
   ]
  },
  {
   "cell_type": "code",
   "execution_count": 37,
   "id": "2838b63c-a6a7-4542-8d0c-2ca7bd2dd15c",
   "metadata": {},
   "outputs": [
    {
     "data": {
      "text/plain": [
       "47.78745075518912"
      ]
     },
     "execution_count": 37,
     "metadata": {},
     "output_type": "execute_result"
    }
   ],
   "source": [
    "st[0]"
   ]
  },
  {
   "cell_type": "code",
   "execution_count": 38,
   "id": "1e8aacb5-ed0b-4ac4-ace9-9db6776079fc",
   "metadata": {},
   "outputs": [
    {
     "data": {
      "image/png": "[encoded data removed]",
      "text/plain": [
       "<Figure size 432x288 with 1 Axes>"
      ]
     },
     "metadata": {
      "needs_background": "light"
     },
     "output_type": "display_data"
    }
   ],
   "source": [
    "plt.hist(st, bins=100)\n",
    "plt.show()"
   ]
  },
  {
   "cell_type": "code",
   "execution_count": 45,
   "id": "1e83c430-32fc-4c82-a1a1-70e80fe28c61",
   "metadata": {},
   "outputs": [],
   "source": [
    "sample = np.random.exponential(1/10, size=(10000, 1000))"
   ]
  },
  {
   "cell_type": "code",
   "execution_count": 46,
   "id": "822d03e5-fd68-4f62-a27e-f69c8c582b41",
   "metadata": {},
   "outputs": [],
   "source": [
    "st = (sample.mean(axis=1) - mu0) / (sample.std(axis=1) / np.sqrt(sample.shape[0]))"
   ]
  },
  {
   "cell_type": "code",
   "execution_count": 47,
   "id": "eece0c99-1ba0-4680-acf4-f5c675e25628",
   "metadata": {},
   "outputs": [
    {
     "data": {
      "image/png": "[encoded data removed]",
      "text/plain": [
       "<Figure size 432x288 with 1 Axes>"
      ]
     },
     "metadata": {
      "needs_background": "light"
     },
     "output_type": "display_data"
    }
   ],
   "source": [
    "plt.hist(st, bins=100)\n",
    "plt.show()"
   ]
  },
  {
   "cell_type": "code",
   "execution_count": 51,
   "id": "ab576327-cb54-4477-9370-8ba1393846cf",
   "metadata": {},
   "outputs": [],
   "source": [
    "x1  = np.random.normal(0, 1, size=20)\n",
    "x2 = np.random.beta(2, 3, size=20)"
   ]
  },
  {
   "cell_type": "code",
   "execution_count": 54,
   "id": "aa31c101-a972-47f6-8860-a1df964206d2",
   "metadata": {},
   "outputs": [
    {
     "data": {
      "text/plain": [
       "(-0.24934345993732876, 0.35738292018298784)"
      ]
     },
     "execution_count": 54,
     "metadata": {},
     "output_type": "execute_result"
    }
   ],
   "source": [
    "np.mean(x1), np.mean(x2)"
   ]
  },
  {
   "cell_type": "code",
   "execution_count": 52,
   "id": "95017cad-b441-4141-9771-b0ec794eb197",
   "metadata": {},
   "outputs": [
    {
     "data": {
      "image/png": "[encoded data removed]",
      "text/plain": [
       "<Figure size 432x288 with 1 Axes>"
      ]
     },
     "metadata": {
      "needs_background": "light"
     },
     "output_type": "display_data"
    }
   ],
   "source": [
    "plt.hist(x1, bins=100, alpha=0.3)\n",
    "plt.hist(x2, bins=100, alpha=0.3)\n",
    "plt.show()"
   ]
  },
  {
   "cell_type": "code",
   "execution_count": 56,
   "id": "87c032ec-b760-40c0-a0f0-d30274e5012e",
   "metadata": {},
   "outputs": [
    {
     "data": {
      "text/plain": [
       "MannwhitneyuResult(statistic=147.0, pvalue=0.9260767086428191)"
      ]
     },
     "execution_count": 56,
     "metadata": {},
     "output_type": "execute_result"
    }
   ],
   "source": [
    "stats.mannwhitneyu(x1, x2)"
   ]
  },
  {
   "cell_type": "code",
   "execution_count": null,
   "id": "281591ce-11d7-4ee5-aa62-c4804ead56f1",
   "metadata": {},
   "outputs": [],
   "source": []
  }
 ],
 "metadata": {
  "kernelspec": {
   "display_name": "Python 3 (ipykernel)",
   "language": "python",
   "name": "python3"
  },
  "language_info": {
   "codemirror_mode": {
    "name": "ipython",
    "version": 3
   },
   "file_extension": ".py",
   "mimetype": "text/x-python",
   "name": "python",
   "nbconvert_exporter": "python",
   "pygments_lexer": "ipython3",
   "version": "3.8.10"
  }
 },
 "nbformat": 4,
 "nbformat_minor": 5
}
