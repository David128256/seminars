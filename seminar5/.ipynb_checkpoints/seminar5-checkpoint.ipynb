{
 "cells": [
  {
   "cell_type": "code",
   "execution_count": null,
   "id": "a4f5c70d-eeea-4f96-ba0a-8d29df22f990",
   "metadata": {},
   "outputs": [],
   "source": [
    "import numpy as np\n",
    "from scipy.stats import norm, chi2\n",
    "from scipy.special import lambertw\n",
    "import matplotlib.pyplot as plt\n",
    "from tqdm.auto import tqdm"
   ]
  },
  {
   "cell_type": "code",
   "execution_count": null,
   "id": "2649afb4-5f6e-4ace-b16f-8f73f41d072b",
   "metadata": {},
   "outputs": [],
   "source": [
    "alpha = 0.02\n",
    "beta = 0.1\n",
    "\n",
    "mu1 = 10\n",
    "mu2 = 11\n",
    "sigma = 3\n",
    "\n",
    "n = ((norm.ppf(beta) - norm.ppf(1 - alpha)) * sigma / (mu1 - mu2))**2"
   ]
  },
  {
   "cell_type": "code",
   "execution_count": null,
   "id": "3f611e23-256a-44f9-b109-80258348d9b1",
   "metadata": {},
   "outputs": [],
   "source": [
    "stat1, stat2 = [], []\n",
    "for i in range(10000):\n",
    "    size = 100\n",
    "    data1 = np.random.normal(mu1, sigma, size)\n",
    "    data2 = np.random.normal(mu2, sigma, size)\n",
    "    \n",
    "    t1 = (2 * data1.sum() * (mu2 - mu1) + size * (mu1**2 - mu2**2)) / sigma / 2\n",
    "    t2 = (2 * data2.sum() * (mu2 - mu1) + size * (mu1**2 - mu2**2)) / sigma / 2\n",
    "    stat1.append(t1)\n",
    "    stat2.append(t2)"
   ]
  },
  {
   "cell_type": "markdown",
   "id": "93ba243f-7932-44cb-99e5-2a3e9f5e0373",
   "metadata": {},
   "source": [
    "$$t\\sim N\\left(\\frac{200\\mu_{1}(\\mu_{2} - \\mu_{1}) + 100(\\mu_{1}^{2} - \\mu_{2}^{2})}{2\\sigma}, 100(\\mu_{2} - \\mu_{1})^{2}\\right) = N(-50, 100)$$"
   ]
  },
  {
   "cell_type": "code",
   "execution_count": null,
   "id": "a7b5ae3b-2e96-4cac-b806-f0883fcd39b8",
   "metadata": {},
   "outputs": [],
   "source": [
    "c1 = norm.ppf(1 - alpha, loc=(2 * size * mu1 * (mu2 - mu1) + size * (mu1**2 - mu2**2)) / 2 / sigma, scale=np.sqrt(size * (mu1 - mu2)**2))\n",
    "c2 = norm.ppf(beta, loc=(2 * size * mu2 * (mu2 - mu1) + size * (mu1**2 - mu2**2)) / 2 / sigma, scale=np.sqrt(size * (mu1 - mu2)**2))"
   ]
  },
  {
   "cell_type": "code",
   "execution_count": null,
   "id": "4bad12c5-f19e-4ca4-af45-9119a5a4234a",
   "metadata": {},
   "outputs": [],
   "source": [
    "c1, c2"
   ]
  },
  {
   "cell_type": "code",
   "execution_count": null,
   "id": "ee58e092-e2fd-4abc-89e0-83804dbf534e",
   "metadata": {},
   "outputs": [],
   "source": [
    "c = min(c1, c2)"
   ]
  },
  {
   "cell_type": "code",
   "execution_count": null,
   "id": "ae15e7ba-b8dc-4a1a-b3d1-5485fc1a2964",
   "metadata": {},
   "outputs": [],
   "source": [
    "plt.figure(figsize=(36, 16))\n",
    "plt.hist(stat1, bins=100, alpha=0.4, label='H_0')\n",
    "plt.hist(stat2, bins=100, alpha=0.4, label='H_1')\n",
    "plt.legend()\n",
    "plt.grid()\n",
    "plt.show()"
   ]
  },
  {
   "cell_type": "code",
   "execution_count": null,
   "id": "7380462e-3909-4f7d-b08b-270158c6031f",
   "metadata": {},
   "outputs": [],
   "source": [
    "num_tests = 2000\n",
    "res1, res2 = [], []\n",
    "for size in tqdm(range(5, np.ceil(n).astype(int) * 2)):\n",
    "    res1.append(0)\n",
    "    res2.append(0)\n",
    "    c1 = norm.ppf(1 - alpha, loc=(2 * size * mu1 * (mu2 - mu1) + size * (mu1**2 - mu2**2)) / 2 / sigma, scale=np.sqrt(size * (mu1 - mu2)**2))\n",
    "    c2 = norm.ppf(beta, loc=(2 * size * mu2 * (mu2 - mu1) + size * (mu1**2 - mu2**2)) / 2 / sigma, scale=np.sqrt(size * (mu1 - mu2)**2))\n",
    "    c = np.mean([c1, c2])\n",
    "    for i in range(num_tests):\n",
    "        data1 = np.random.normal(mu1, sigma, size)\n",
    "        data2 = np.random.normal(mu2, sigma, size)\n",
    "\n",
    "        t1 = (2 * data1.sum() * (mu2 - mu1) + size * (mu1**2 - mu2**2)) / sigma / 2\n",
    "        t2 = (2 * data2.sum() * (mu2 - mu1) + size * (mu1**2 - mu2**2)) / sigma / 2\n",
    "        res1[-1] += t1 <= c\n",
    "        res2[-1] += t2 <= c\n",
    "    res1[-1] /= num_tests\n",
    "    res2[-1] /= num_tests"
   ]
  },
  {
   "cell_type": "code",
   "execution_count": null,
   "id": "2aa1bc88-b687-40e8-9db2-b600810a668d",
   "metadata": {},
   "outputs": [],
   "source": [
    "plt.figure(figsize=(36, 16))\n",
    "plt.plot(list(range(5, np.ceil(n).astype(int) * 2)), 1 - np.asarray(res1), label='type 1 error')\n",
    "plt.plot(list(range(5, np.ceil(n).astype(int) * 2)), res2, label='type 2 error')\n",
    "plt.plot([n, n], [0, max(np.max(res2), np.max(res1))], label='theoretical threshold')\n",
    "plt.legend()\n",
    "plt.grid()\n",
    "plt.show()"
   ]
  },
  {
   "cell_type": "code",
   "execution_count": null,
   "id": "0e84f084-b8a3-4753-9492-a649175aa6fa",
   "metadata": {},
   "outputs": [],
   "source": [
    "alpha = 0.02\n",
    "beta = 0.1\n",
    "\n",
    "mu1 = 10\n",
    "mu2 = 11\n",
    "sigma = 10\n",
    "\n",
    "n = ((norm.ppf(beta) - norm.ppf(1 - alpha)) * sigma / (mu1 - mu2))**2"
   ]
  },
  {
   "cell_type": "code",
   "execution_count": null,
   "id": "a3b3069a-095b-4578-a2d9-3fac270f558d",
   "metadata": {},
   "outputs": [],
   "source": [
    "for size in [100, 500, 1000, 2000]:\n",
    "    stat1, stat2 = [], []\n",
    "    for i in range(10000):\n",
    "        data1 = np.random.normal(mu1, sigma, size)\n",
    "        data2 = np.random.normal(mu2, sigma, size)\n",
    "\n",
    "        t1 = (2 * data1.sum() * (mu2 - mu1) + size * (mu1**2 - mu2**2)) / sigma / 2\n",
    "        t2 = (2 * data2.sum() * (mu2 - mu1) + size * (mu1**2 - mu2**2)) / sigma / 2\n",
    "        stat1.append(t1)\n",
    "        stat2.append(t2)\n",
    "    \n",
    "    c1 = norm.ppf(1 - alpha, loc=(2 * size * mu1 * (mu2 - mu1) + size * (mu1**2 - mu2**2)) / 2 / sigma, scale=np.sqrt(size * (mu1 - mu2)**2))\n",
    "    c2 = norm.ppf(beta, loc=(2 * size * mu2 * (mu2 - mu1) + size * (mu1**2 - mu2**2)) / 2 / sigma, scale=np.sqrt(size * (mu1 - mu2)**2))\n",
    "    \n",
    "    plt.figure(figsize=(36, 16))\n",
    "    plt.hist(stat1, bins=100, alpha=0.4, label='H_0')\n",
    "    plt.hist(stat2, bins=100, alpha=0.4, label='H_1')\n",
    "    plt.plot([c1, c1], [0, 300], label='type 1 thr')\n",
    "    plt.plot([c2, c2], [0, 300], label='type 2 thr')\n",
    "    plt.legend()\n",
    "    plt.grid()\n",
    "    plt.show()"
   ]
  },
  {
   "cell_type": "code",
   "execution_count": null,
   "id": "0de4ee74-1b0e-48c2-b0e1-dba2753903db",
   "metadata": {},
   "outputs": [],
   "source": [
    "num_tests = 2000\n",
    "res1, res2 = [], []\n",
    "for size in tqdm(range(5, np.ceil(n).astype(int) * 2, 10)):\n",
    "    res1.append(0)\n",
    "    res2.append(0)\n",
    "    c1 = norm.ppf(1 - alpha, loc=(2 * size * mu1 * (mu2 - mu1) + size * (mu1**2 - mu2**2)) / 2 / sigma, scale=np.sqrt(size * (mu1 - mu2)**2))\n",
    "    c2 = norm.ppf(beta, loc=(2 * size * mu2 * (mu2 - mu1) + size * (mu1**2 - mu2**2)) / 2 / sigma, scale=np.sqrt(size * (mu1 - mu2)**2))\n",
    "    c = np.mean([c1, c2])\n",
    "    for i in range(num_tests):\n",
    "        data1 = np.random.normal(mu1, sigma, size)\n",
    "        data2 = np.random.normal(mu2, sigma, size)\n",
    "\n",
    "        t1 = (2 * data1.sum() * (mu2 - mu1) + size * (mu1**2 - mu2**2)) / sigma / 2\n",
    "        t2 = (2 * data2.sum() * (mu2 - mu1) + size * (mu1**2 - mu2**2)) / sigma / 2\n",
    "        res1[-1] += t1 <= c\n",
    "        res2[-1] += t2 <= c\n",
    "    res1[-1] /= num_tests\n",
    "    res2[-1] /= num_tests"
   ]
  },
  {
   "cell_type": "code",
   "execution_count": null,
   "id": "18843394-cabe-4f50-974c-1efcb276b8f4",
   "metadata": {},
   "outputs": [],
   "source": [
    "plt.figure(figsize=(36, 16))\n",
    "plt.plot(list(range(5, np.ceil(n).astype(int) * 2, 10)), 1 - np.asarray(res1), label='type 1 error')\n",
    "plt.plot(list(range(5, np.ceil(n).astype(int) * 2, 10)), res2, label='type 2 error')\n",
    "plt.plot([n, n], [0, max(np.max(res2), np.max(res1))], label='theoretical threshold')\n",
    "plt.legend()\n",
    "plt.grid()\n",
    "plt.show()"
   ]
  },
  {
   "cell_type": "code",
   "execution_count": null,
   "id": "a8fc8786-b8e9-4ad9-951b-0bd7754e5f1a",
   "metadata": {},
   "outputs": [],
   "source": [
    "alpha = 0.02\n",
    "beta = 0.1\n",
    "\n",
    "lambda1 = 0.4#0.45\n",
    "lambda2 = 0.5\n",
    "\n",
    "#n = "
   ]
  },
  {
   "cell_type": "code",
   "execution_count": null,
   "id": "d33498a6-0324-41fd-ae8a-26f1b40a5973",
   "metadata": {},
   "outputs": [],
   "source": [
    "for size in [20, 100, 200, 500, 1000]:\n",
    "    stat1, stat2 = [], []\n",
    "    for i in range(10000):\n",
    "        data1 = np.random.exponential(1 / lambda1, size)\n",
    "        data2 = np.random.exponential(1 / lambda2, size)\n",
    "\n",
    "        t1 = -2 * (size * np.log(data1.mean()) + size * np.log(lambda1) - data1.sum() * lambda1)\n",
    "        t2 = -2 * (size * np.log(data2.mean()) + size * np.log(lambda1) - data2.sum() * lambda1)\n",
    "        stat1.append(t1)\n",
    "        stat2.append(t2)\n",
    "        \n",
    "    c1 = np.quantile(stat1, 1 - alpha)\n",
    "    c2 = np.quantile(stat2, beta)\n",
    "    \n",
    "    plt.figure(figsize=(36, 16))\n",
    "    plt.hist(stat1, bins=100, alpha=0.4, label='H_0', density=True)\n",
    "    plt.hist(stat2, bins=100, alpha=0.4, label='H_1', density=True)\n",
    "    plt.plot([c1, c1], [0, 1], label='type 1 thr')\n",
    "    plt.plot([c2, c2], [0, 1], label='type 2 thr')\n",
    "    plt.plot(np.linspace(2 * size, 2 * size + 100, 1000), chi2.pdf(np.linspace(0, 100, 1000), 1))\n",
    "    plt.plot(np.linspace(2 * size, 2 * size + 100, 1000), chi2.pdf(np.linspace(0, 100, 1000), size / 20))\n",
    "    plt.legend()\n",
    "    plt.grid()\n",
    "    plt.show()"
   ]
  },
  {
   "cell_type": "code",
   "execution_count": null,
   "id": "112115b1-2bc6-4c36-9dd9-a8253d534c91",
   "metadata": {},
   "outputs": [],
   "source": [
    "def f(x, n, lam):\n",
    "    x = x * lam\n",
    "    return x**n * np.exp(-n * x)\n",
    "\n",
    "plt.figure(figsize=(36, 16))\n",
    "plt.plot(np.linspace(0, 100, 1000), f(np.linspace(0, 100, 1000), 10, 0.1))\n",
    "# plt.plot(np.linspace(0, 100, 1000), log_f(np.linspace(0, 100, 1000), 1))\n",
    "plt.grid()\n",
    "plt.show()"
   ]
  },
  {
   "cell_type": "code",
   "execution_count": null,
   "id": "f25195a0-2a56-42df-9642-e46687677f78",
   "metadata": {},
   "outputs": [],
   "source": [
    "res1, res2 = [], []\n",
    "space = np.arange(10, 1500, 10)\n",
    "for size in tqdm(space):\n",
    "    res1.append(0)\n",
    "    res2.append(0)\n",
    "    stat1, stat2 = [], []\n",
    "    for i in range(10000):\n",
    "        data1 = np.random.exponential(1 / lambda1, size)\n",
    "        data2 = np.random.exponential(1 / lambda2, size)\n",
    "\n",
    "        t1 = size * np.log(data1.mean()) + size * np.log(lambda1) - data1.sum() * lambda1\n",
    "        t2 = size * np.log(data2.mean()) + size * np.log(lambda1) - data2.sum() * lambda1\n",
    "        stat1.append(t1)\n",
    "        stat2.append(t2)\n",
    "        \n",
    "    c1 = np.quantile(stat1, 1 - alpha)\n",
    "    c2 = np.quantile(stat2, beta)\n",
    "    c = np.mean([c1, c2])\n",
    "    \n",
    "    for i in range(num_tests):\n",
    "        data1 = np.random.exponential(1 / lambda1, size)\n",
    "        data2 = np.random.exponential(1 / lambda2, size)\n",
    "\n",
    "        t1 = size * np.log(data1.mean()) + size * np.log(lambda1) - data1.sum() * lambda1\n",
    "        t2 = size * np.log(data2.mean()) + size * np.log(lambda1) - data2.sum() * lambda1\n",
    "        res1[-1] += t1 < c\n",
    "        res2[-1] += t2 < c\n",
    "    res1[-1] /= num_tests\n",
    "    res2[-1] /= num_tests"
   ]
  },
  {
   "cell_type": "code",
   "execution_count": null,
   "id": "2d34b94e-da15-47aa-947b-d79828a3b1d7",
   "metadata": {},
   "outputs": [],
   "source": [
    "plt.figure(figsize=(36, 16))\n",
    "plt.plot(space, 1 - np.asarray(res1), label='type 1 error')\n",
    "plt.plot(space, np.asarray(res2), label='type 2 error')\n",
    "plt.legend()\n",
    "plt.grid()\n",
    "plt.show()"
   ]
  },
  {
   "cell_type": "code",
   "execution_count": null,
   "id": "fb23fd2e-cb4f-4e58-8279-c42421d8f927",
   "metadata": {},
   "outputs": [],
   "source": []
  }
 ],
 "metadata": {
  "kernelspec": {
   "display_name": "Python 3 (ipykernel)",
   "language": "python",
   "name": "python3"
  },
  "language_info": {
   "codemirror_mode": {
    "name": "ipython",
    "version": 3
   },
   "file_extension": ".py",
   "mimetype": "text/x-python",
   "name": "python",
   "nbconvert_exporter": "python",
   "pygments_lexer": "ipython3",
   "version": "3.8.10"
  }
 },
 "nbformat": 4,
 "nbformat_minor": 5
}
